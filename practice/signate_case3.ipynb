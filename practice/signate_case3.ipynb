{
  "nbformat": 4,
  "nbformat_minor": 0,
  "metadata": {
    "colab": {
      "name": "signate_case3.ipynb",
      "version": "0.3.2",
      "provenance": [],
      "include_colab_link": true
    },
    "kernelspec": {
      "name": "python3",
      "display_name": "Python 3"
    }
  },
  "cells": [
    {
      "cell_type": "markdown",
      "metadata": {
        "id": "view-in-github",
        "colab_type": "text"
      },
      "source": [
        "<a href=\"https://colab.research.google.com/github/HikaruEgashira/data_science_practice/blob/master/practice/signate_case3.ipynb\" target=\"_parent\"><img src=\"https://colab.research.google.com/assets/colab-badge.svg\" alt=\"Open In Colab\"/></a>"
      ]
    },
    {
      "cell_type": "code",
      "metadata": {
        "id": "YsB5Skqh-nG1",
        "colab_type": "code",
        "colab": {
          "base_uri": "https://localhost:8080/",
          "height": 34
        },
        "outputId": "d43283e9-34a9-498d-fa81-bd6e6d6335e5"
      },
      "source": [
        "from google.colab import drive\n",
        "drive.mount('/content/drive')"
      ],
      "execution_count": 147,
      "outputs": [
        {
          "output_type": "stream",
          "text": [
            "Drive already mounted at /content/drive; to attempt to forcibly remount, call drive.mount(\"/content/drive\", force_remount=True).\n"
          ],
          "name": "stdout"
        }
      ]
    },
    {
      "cell_type": "code",
      "metadata": {
        "id": "p2rAJoUR-6Cq",
        "colab_type": "code",
        "colab": {
          "base_uri": "https://localhost:8080/",
          "height": 34
        },
        "outputId": "8656ae29-4aeb-49e6-9814-d64b8c8a9b24"
      },
      "source": [
        "!ls 'drive/My Drive/Private/workspace/python/case3'"
      ],
      "execution_count": 148,
      "outputs": [
        {
          "output_type": "stream",
          "text": [
            "sample_submit.csv  submit.csv  test.tsv  train.tsv\n"
          ],
          "name": "stdout"
        }
      ]
    },
    {
      "cell_type": "code",
      "metadata": {
        "id": "Sx5xiVp0_FzZ",
        "colab_type": "code",
        "colab": {}
      },
      "source": [
        "import pandas as pd\n",
        "import numpy as np\n",
        "from matplotlib import pyplot as plt\n",
        "\n",
        "%matplotlib inline"
      ],
      "execution_count": 0,
      "outputs": []
    },
    {
      "cell_type": "code",
      "metadata": {
        "id": "wx7kYsZt_rzS",
        "colab_type": "code",
        "colab": {}
      },
      "source": [
        "train = pd.read_csv('drive/My Drive/Private/workspace/python/case3/train.tsv', delimiter='\\t')\n",
        "test = pd.read_csv('drive/My Drive/Private/workspace/python/case3/test.tsv', delimiter='\\t')\n",
        "submit = pd.read_csv('drive/My Drive/Private/workspace/python/case3/sample_submit.csv', header = None)"
      ],
      "execution_count": 0,
      "outputs": []
    },
    {
      "cell_type": "code",
      "metadata": {
        "id": "LuZNZQ9-AHzS",
        "colab_type": "code",
        "colab": {
          "base_uri": "https://localhost:8080/",
          "height": 204
        },
        "outputId": "0ba897ab-7c07-436c-8d91-c34ca51f6101"
      },
      "source": [
        "train.head()"
      ],
      "execution_count": 151,
      "outputs": [
        {
          "output_type": "execute_result",
          "data": {
            "text/html": [
              "<div>\n",
              "<style scoped>\n",
              "    .dataframe tbody tr th:only-of-type {\n",
              "        vertical-align: middle;\n",
              "    }\n",
              "\n",
              "    .dataframe tbody tr th {\n",
              "        vertical-align: top;\n",
              "    }\n",
              "\n",
              "    .dataframe thead th {\n",
              "        text-align: right;\n",
              "    }\n",
              "</style>\n",
              "<table border=\"1\" class=\"dataframe\">\n",
              "  <thead>\n",
              "    <tr style=\"text-align: right;\">\n",
              "      <th></th>\n",
              "      <th>id</th>\n",
              "      <th>click</th>\n",
              "      <th>I1</th>\n",
              "      <th>I2</th>\n",
              "      <th>C1</th>\n",
              "      <th>C2</th>\n",
              "      <th>C3</th>\n",
              "      <th>C4</th>\n",
              "      <th>C5</th>\n",
              "      <th>C6</th>\n",
              "      <th>I3</th>\n",
              "      <th>I4</th>\n",
              "      <th>I5</th>\n",
              "      <th>I6</th>\n",
              "      <th>I7</th>\n",
              "      <th>I8</th>\n",
              "      <th>I9</th>\n",
              "      <th>I10</th>\n",
              "      <th>I11</th>\n",
              "      <th>I12</th>\n",
              "      <th>I13</th>\n",
              "      <th>I14</th>\n",
              "    </tr>\n",
              "  </thead>\n",
              "  <tbody>\n",
              "    <tr>\n",
              "      <th>0</th>\n",
              "      <td>0</td>\n",
              "      <td>0</td>\n",
              "      <td>5</td>\n",
              "      <td>20</td>\n",
              "      <td>421256035</td>\n",
              "      <td>2377199148</td>\n",
              "      <td>2696211399</td>\n",
              "      <td>2298910535</td>\n",
              "      <td>3133252034</td>\n",
              "      <td>1509930964</td>\n",
              "      <td>1</td>\n",
              "      <td>0</td>\n",
              "      <td>0</td>\n",
              "      <td>0</td>\n",
              "      <td>0</td>\n",
              "      <td>0</td>\n",
              "      <td>0</td>\n",
              "      <td>0</td>\n",
              "      <td>NaN</td>\n",
              "      <td>NaN</td>\n",
              "      <td>NaN</td>\n",
              "      <td>780.0</td>\n",
              "    </tr>\n",
              "    <tr>\n",
              "      <th>1</th>\n",
              "      <td>1</td>\n",
              "      <td>0</td>\n",
              "      <td>5</td>\n",
              "      <td>20</td>\n",
              "      <td>2581703001</td>\n",
              "      <td>2589684548</td>\n",
              "      <td>1998340283</td>\n",
              "      <td>2411205997</td>\n",
              "      <td>3202148071</td>\n",
              "      <td>1238839469</td>\n",
              "      <td>0</td>\n",
              "      <td>2</td>\n",
              "      <td>1</td>\n",
              "      <td>1</td>\n",
              "      <td>0</td>\n",
              "      <td>0</td>\n",
              "      <td>0</td>\n",
              "      <td>0</td>\n",
              "      <td>NaN</td>\n",
              "      <td>NaN</td>\n",
              "      <td>NaN</td>\n",
              "      <td>0.0</td>\n",
              "    </tr>\n",
              "    <tr>\n",
              "      <th>2</th>\n",
              "      <td>2</td>\n",
              "      <td>0</td>\n",
              "      <td>5</td>\n",
              "      <td>20</td>\n",
              "      <td>2581703001</td>\n",
              "      <td>1862037199</td>\n",
              "      <td>2448089184</td>\n",
              "      <td>2411205997</td>\n",
              "      <td>1107442947</td>\n",
              "      <td>3668889797</td>\n",
              "      <td>2</td>\n",
              "      <td>1</td>\n",
              "      <td>0</td>\n",
              "      <td>0</td>\n",
              "      <td>0</td>\n",
              "      <td>0</td>\n",
              "      <td>1</td>\n",
              "      <td>0</td>\n",
              "      <td>NaN</td>\n",
              "      <td>NaN</td>\n",
              "      <td>NaN</td>\n",
              "      <td>117.0</td>\n",
              "    </tr>\n",
              "    <tr>\n",
              "      <th>3</th>\n",
              "      <td>3</td>\n",
              "      <td>0</td>\n",
              "      <td>5</td>\n",
              "      <td>20</td>\n",
              "      <td>421256035</td>\n",
              "      <td>3874378935</td>\n",
              "      <td>1658216424</td>\n",
              "      <td>2298910535</td>\n",
              "      <td>2321672976</td>\n",
              "      <td>1509930964</td>\n",
              "      <td>1</td>\n",
              "      <td>0</td>\n",
              "      <td>0</td>\n",
              "      <td>0</td>\n",
              "      <td>0</td>\n",
              "      <td>0</td>\n",
              "      <td>0</td>\n",
              "      <td>0</td>\n",
              "      <td>6.0</td>\n",
              "      <td>6.0</td>\n",
              "      <td>34501.0</td>\n",
              "      <td>390.0</td>\n",
              "    </tr>\n",
              "    <tr>\n",
              "      <th>4</th>\n",
              "      <td>4</td>\n",
              "      <td>1</td>\n",
              "      <td>5</td>\n",
              "      <td>20</td>\n",
              "      <td>421256035</td>\n",
              "      <td>3874378935</td>\n",
              "      <td>1892769125</td>\n",
              "      <td>2411205997</td>\n",
              "      <td>2321672976</td>\n",
              "      <td>1509930964</td>\n",
              "      <td>1</td>\n",
              "      <td>0</td>\n",
              "      <td>0</td>\n",
              "      <td>0</td>\n",
              "      <td>0</td>\n",
              "      <td>0</td>\n",
              "      <td>0</td>\n",
              "      <td>0</td>\n",
              "      <td>1.0</td>\n",
              "      <td>31.0</td>\n",
              "      <td>12557.0</td>\n",
              "      <td>390.0</td>\n",
              "    </tr>\n",
              "  </tbody>\n",
              "</table>\n",
              "</div>"
            ],
            "text/plain": [
              "   id  click  I1  I2          C1  ...  I10  I11   I12      I13    I14\n",
              "0   0      0   5  20   421256035  ...    0  NaN   NaN      NaN  780.0\n",
              "1   1      0   5  20  2581703001  ...    0  NaN   NaN      NaN    0.0\n",
              "2   2      0   5  20  2581703001  ...    0  NaN   NaN      NaN  117.0\n",
              "3   3      0   5  20   421256035  ...    0  6.0   6.0  34501.0  390.0\n",
              "4   4      1   5  20   421256035  ...    0  1.0  31.0  12557.0  390.0\n",
              "\n",
              "[5 rows x 22 columns]"
            ]
          },
          "metadata": {
            "tags": []
          },
          "execution_count": 151
        }
      ]
    },
    {
      "cell_type": "code",
      "metadata": {
        "id": "67vUNfr6ATaq",
        "colab_type": "code",
        "colab": {
          "base_uri": "https://localhost:8080/",
          "height": 317
        },
        "outputId": "b9a05930-e2e3-4d1b-8416-eb78d923c370"
      },
      "source": [
        "train.describe()"
      ],
      "execution_count": 152,
      "outputs": [
        {
          "output_type": "execute_result",
          "data": {
            "text/html": [
              "<div>\n",
              "<style scoped>\n",
              "    .dataframe tbody tr th:only-of-type {\n",
              "        vertical-align: middle;\n",
              "    }\n",
              "\n",
              "    .dataframe tbody tr th {\n",
              "        vertical-align: top;\n",
              "    }\n",
              "\n",
              "    .dataframe thead th {\n",
              "        text-align: right;\n",
              "    }\n",
              "</style>\n",
              "<table border=\"1\" class=\"dataframe\">\n",
              "  <thead>\n",
              "    <tr style=\"text-align: right;\">\n",
              "      <th></th>\n",
              "      <th>id</th>\n",
              "      <th>click</th>\n",
              "      <th>I1</th>\n",
              "      <th>I2</th>\n",
              "      <th>C1</th>\n",
              "      <th>C2</th>\n",
              "      <th>C3</th>\n",
              "      <th>C4</th>\n",
              "      <th>C5</th>\n",
              "      <th>C6</th>\n",
              "      <th>I3</th>\n",
              "      <th>I4</th>\n",
              "      <th>I5</th>\n",
              "      <th>I6</th>\n",
              "      <th>I7</th>\n",
              "      <th>I8</th>\n",
              "      <th>I9</th>\n",
              "      <th>I10</th>\n",
              "      <th>I11</th>\n",
              "      <th>I12</th>\n",
              "      <th>I13</th>\n",
              "      <th>I14</th>\n",
              "    </tr>\n",
              "  </thead>\n",
              "  <tbody>\n",
              "    <tr>\n",
              "      <th>count</th>\n",
              "      <td>1.169042e+06</td>\n",
              "      <td>1.169042e+06</td>\n",
              "      <td>1.169042e+06</td>\n",
              "      <td>1.169042e+06</td>\n",
              "      <td>1.169042e+06</td>\n",
              "      <td>1.169042e+06</td>\n",
              "      <td>1.169042e+06</td>\n",
              "      <td>1.169042e+06</td>\n",
              "      <td>1.169042e+06</td>\n",
              "      <td>1.169042e+06</td>\n",
              "      <td>1.169042e+06</td>\n",
              "      <td>1.169042e+06</td>\n",
              "      <td>1.169042e+06</td>\n",
              "      <td>1.169042e+06</td>\n",
              "      <td>1.169042e+06</td>\n",
              "      <td>1.169042e+06</td>\n",
              "      <td>1.169042e+06</td>\n",
              "      <td>1.169042e+06</td>\n",
              "      <td>981754.000000</td>\n",
              "      <td>981754.000000</td>\n",
              "      <td>9.817540e+05</td>\n",
              "      <td>1.129422e+06</td>\n",
              "    </tr>\n",
              "    <tr>\n",
              "      <th>mean</th>\n",
              "      <td>5.845205e+05</td>\n",
              "      <td>7.505889e-02</td>\n",
              "      <td>3.031627e+00</td>\n",
              "      <td>1.220570e+01</td>\n",
              "      <td>1.169567e+09</td>\n",
              "      <td>2.381345e+09</td>\n",
              "      <td>2.012817e+09</td>\n",
              "      <td>2.177769e+09</td>\n",
              "      <td>1.888389e+09</td>\n",
              "      <td>2.186933e+09</td>\n",
              "      <td>1.256480e+00</td>\n",
              "      <td>4.682569e-01</td>\n",
              "      <td>3.292790e-01</td>\n",
              "      <td>1.047524e-01</td>\n",
              "      <td>5.746586e-02</td>\n",
              "      <td>8.747077e-02</td>\n",
              "      <td>3.626439e-01</td>\n",
              "      <td>3.801831e-01</td>\n",
              "      <td>365.767723</td>\n",
              "      <td>14.166252</td>\n",
              "      <td>8.158472e+05</td>\n",
              "      <td>3.624405e+02</td>\n",
              "    </tr>\n",
              "    <tr>\n",
              "      <th>std</th>\n",
              "      <td>3.374735e+05</td>\n",
              "      <td>2.634865e-01</td>\n",
              "      <td>1.992983e+00</td>\n",
              "      <td>6.139743e+00</td>\n",
              "      <td>1.087105e+09</td>\n",
              "      <td>1.099911e+09</td>\n",
              "      <td>1.195821e+09</td>\n",
              "      <td>4.357866e+08</td>\n",
              "      <td>9.501573e+08</td>\n",
              "      <td>9.617819e+08</td>\n",
              "      <td>6.717402e-01</td>\n",
              "      <td>7.035656e-01</td>\n",
              "      <td>5.794303e+00</td>\n",
              "      <td>3.062343e-01</td>\n",
              "      <td>2.327307e-01</td>\n",
              "      <td>2.825238e-01</td>\n",
              "      <td>4.807635e-01</td>\n",
              "      <td>4.854319e-01</td>\n",
              "      <td>2472.558968</td>\n",
              "      <td>86.252650</td>\n",
              "      <td>1.385875e+06</td>\n",
              "      <td>6.203855e+02</td>\n",
              "    </tr>\n",
              "    <tr>\n",
              "      <th>min</th>\n",
              "      <td>0.000000e+00</td>\n",
              "      <td>0.000000e+00</td>\n",
              "      <td>0.000000e+00</td>\n",
              "      <td>0.000000e+00</td>\n",
              "      <td>4.212560e+08</td>\n",
              "      <td>5.393295e+07</td>\n",
              "      <td>2.200363e+07</td>\n",
              "      <td>4.001228e+08</td>\n",
              "      <td>2.446028e+07</td>\n",
              "      <td>1.477335e+08</td>\n",
              "      <td>0.000000e+00</td>\n",
              "      <td>0.000000e+00</td>\n",
              "      <td>0.000000e+00</td>\n",
              "      <td>0.000000e+00</td>\n",
              "      <td>0.000000e+00</td>\n",
              "      <td>0.000000e+00</td>\n",
              "      <td>0.000000e+00</td>\n",
              "      <td>0.000000e+00</td>\n",
              "      <td>0.000000</td>\n",
              "      <td>0.000000</td>\n",
              "      <td>-1.000000e+00</td>\n",
              "      <td>0.000000e+00</td>\n",
              "    </tr>\n",
              "    <tr>\n",
              "      <th>25%</th>\n",
              "      <td>2.922602e+05</td>\n",
              "      <td>0.000000e+00</td>\n",
              "      <td>1.000000e+00</td>\n",
              "      <td>7.000000e+00</td>\n",
              "      <td>4.212560e+08</td>\n",
              "      <td>1.537671e+09</td>\n",
              "      <td>1.025908e+09</td>\n",
              "      <td>2.298911e+09</td>\n",
              "      <td>1.410458e+09</td>\n",
              "      <td>1.509931e+09</td>\n",
              "      <td>1.000000e+00</td>\n",
              "      <td>0.000000e+00</td>\n",
              "      <td>0.000000e+00</td>\n",
              "      <td>0.000000e+00</td>\n",
              "      <td>0.000000e+00</td>\n",
              "      <td>0.000000e+00</td>\n",
              "      <td>0.000000e+00</td>\n",
              "      <td>0.000000e+00</td>\n",
              "      <td>4.000000</td>\n",
              "      <td>1.000000</td>\n",
              "      <td>2.126325e+04</td>\n",
              "      <td>3.900000e+01</td>\n",
              "    </tr>\n",
              "    <tr>\n",
              "      <th>50%</th>\n",
              "      <td>5.845205e+05</td>\n",
              "      <td>0.000000e+00</td>\n",
              "      <td>3.000000e+00</td>\n",
              "      <td>1.300000e+01</td>\n",
              "      <td>4.212560e+08</td>\n",
              "      <td>1.862037e+09</td>\n",
              "      <td>1.998340e+09</td>\n",
              "      <td>2.411206e+09</td>\n",
              "      <td>2.321673e+09</td>\n",
              "      <td>1.769723e+09</td>\n",
              "      <td>1.000000e+00</td>\n",
              "      <td>0.000000e+00</td>\n",
              "      <td>0.000000e+00</td>\n",
              "      <td>0.000000e+00</td>\n",
              "      <td>0.000000e+00</td>\n",
              "      <td>0.000000e+00</td>\n",
              "      <td>0.000000e+00</td>\n",
              "      <td>0.000000e+00</td>\n",
              "      <td>19.000000</td>\n",
              "      <td>4.000000</td>\n",
              "      <td>1.416105e+05</td>\n",
              "      <td>2.600000e+02</td>\n",
              "    </tr>\n",
              "    <tr>\n",
              "      <th>75%</th>\n",
              "      <td>8.767808e+05</td>\n",
              "      <td>0.000000e+00</td>\n",
              "      <td>5.000000e+00</td>\n",
              "      <td>1.700000e+01</td>\n",
              "      <td>2.581703e+09</td>\n",
              "      <td>3.874379e+09</td>\n",
              "      <td>2.903162e+09</td>\n",
              "      <td>2.411206e+09</td>\n",
              "      <td>2.321673e+09</td>\n",
              "      <td>3.111152e+09</td>\n",
              "      <td>2.000000e+00</td>\n",
              "      <td>1.000000e+00</td>\n",
              "      <td>0.000000e+00</td>\n",
              "      <td>0.000000e+00</td>\n",
              "      <td>0.000000e+00</td>\n",
              "      <td>0.000000e+00</td>\n",
              "      <td>1.000000e+00</td>\n",
              "      <td>1.000000e+00</td>\n",
              "      <td>84.000000</td>\n",
              "      <td>11.000000</td>\n",
              "      <td>9.316495e+05</td>\n",
              "      <td>3.900000e+02</td>\n",
              "    </tr>\n",
              "    <tr>\n",
              "      <th>max</th>\n",
              "      <td>1.169041e+06</td>\n",
              "      <td>1.000000e+00</td>\n",
              "      <td>6.000000e+00</td>\n",
              "      <td>2.300000e+01</td>\n",
              "      <td>3.651044e+09</td>\n",
              "      <td>4.218832e+09</td>\n",
              "      <td>4.231334e+09</td>\n",
              "      <td>3.954818e+09</td>\n",
              "      <td>4.272797e+09</td>\n",
              "      <td>4.161523e+09</td>\n",
              "      <td>2.000000e+00</td>\n",
              "      <td>2.000000e+00</td>\n",
              "      <td>1.965000e+03</td>\n",
              "      <td>1.000000e+00</td>\n",
              "      <td>1.000000e+00</td>\n",
              "      <td>1.000000e+00</td>\n",
              "      <td>1.000000e+00</td>\n",
              "      <td>1.000000e+00</td>\n",
              "      <td>58684.000000</td>\n",
              "      <td>32664.000000</td>\n",
              "      <td>1.809308e+07</td>\n",
              "      <td>1.300000e+04</td>\n",
              "    </tr>\n",
              "  </tbody>\n",
              "</table>\n",
              "</div>"
            ],
            "text/plain": [
              "                 id         click  ...           I13           I14\n",
              "count  1.169042e+06  1.169042e+06  ...  9.817540e+05  1.129422e+06\n",
              "mean   5.845205e+05  7.505889e-02  ...  8.158472e+05  3.624405e+02\n",
              "std    3.374735e+05  2.634865e-01  ...  1.385875e+06  6.203855e+02\n",
              "min    0.000000e+00  0.000000e+00  ... -1.000000e+00  0.000000e+00\n",
              "25%    2.922602e+05  0.000000e+00  ...  2.126325e+04  3.900000e+01\n",
              "50%    5.845205e+05  0.000000e+00  ...  1.416105e+05  2.600000e+02\n",
              "75%    8.767808e+05  0.000000e+00  ...  9.316495e+05  3.900000e+02\n",
              "max    1.169041e+06  1.000000e+00  ...  1.809308e+07  1.300000e+04\n",
              "\n",
              "[8 rows x 22 columns]"
            ]
          },
          "metadata": {
            "tags": []
          },
          "execution_count": 152
        }
      ]
    },
    {
      "cell_type": "code",
      "metadata": {
        "id": "jG-30T5RAf6K",
        "colab_type": "code",
        "colab": {
          "base_uri": "https://localhost:8080/",
          "height": 408
        },
        "outputId": "099ce8e9-d1f6-4585-c18f-f0a1dc21626a"
      },
      "source": [
        "train.isnull().sum()"
      ],
      "execution_count": 153,
      "outputs": [
        {
          "output_type": "execute_result",
          "data": {
            "text/plain": [
              "id            0\n",
              "click         0\n",
              "I1            0\n",
              "I2            0\n",
              "C1            0\n",
              "C2            0\n",
              "C3            0\n",
              "C4            0\n",
              "C5            0\n",
              "C6            0\n",
              "I3            0\n",
              "I4            0\n",
              "I5            0\n",
              "I6            0\n",
              "I7            0\n",
              "I8            0\n",
              "I9            0\n",
              "I10           0\n",
              "I11      187288\n",
              "I12      187288\n",
              "I13      187288\n",
              "I14       39620\n",
              "dtype: int64"
            ]
          },
          "metadata": {
            "tags": []
          },
          "execution_count": 153
        }
      ]
    },
    {
      "cell_type": "code",
      "metadata": {
        "id": "n2jG4XytA5Ba",
        "colab_type": "code",
        "colab": {}
      },
      "source": [
        "from sklearn.linear_model import LinearRegression as LR"
      ],
      "execution_count": 0,
      "outputs": []
    },
    {
      "cell_type": "code",
      "metadata": {
        "id": "2dT_TX70Becq",
        "colab_type": "code",
        "colab": {}
      },
      "source": [
        "model = LR()"
      ],
      "execution_count": 0,
      "outputs": []
    },
    {
      "cell_type": "code",
      "metadata": {
        "id": "JiiTEGe3Bg4S",
        "colab_type": "code",
        "colab": {
          "base_uri": "https://localhost:8080/",
          "height": 34
        },
        "outputId": "8ac50b79-53ea-4540-9ec5-5d0b9ea71997"
      },
      "source": [
        "train[train['C1'] == 421256035]['click'].sum() / 1169005"
      ],
      "execution_count": 156,
      "outputs": [
        {
          "output_type": "execute_result",
          "data": {
            "text/plain": [
              "0.06353351782071077"
            ]
          },
          "metadata": {
            "tags": []
          },
          "execution_count": 156
        }
      ]
    },
    {
      "cell_type": "code",
      "metadata": {
        "id": "E1WwogcPB26i",
        "colab_type": "code",
        "colab": {
          "base_uri": "https://localhost:8080/",
          "height": 34
        },
        "outputId": "6a76391b-c946-4be0-fc1e-d4214106ec95"
      },
      "source": [
        "train['id'].count()"
      ],
      "execution_count": 157,
      "outputs": [
        {
          "output_type": "execute_result",
          "data": {
            "text/plain": [
              "1169042"
            ]
          },
          "metadata": {
            "tags": []
          },
          "execution_count": 157
        }
      ]
    },
    {
      "cell_type": "code",
      "metadata": {
        "id": "WqhhJf78DUBp",
        "colab_type": "code",
        "colab": {
          "base_uri": "https://localhost:8080/",
          "height": 34
        },
        "outputId": "92020bbd-236e-4d2a-a428-d2e280916edd"
      },
      "source": [
        "train[train['C1'] == 421256035 ]['id'].count()"
      ],
      "execution_count": 158,
      "outputs": [
        {
          "output_type": "execute_result",
          "data": {
            "text/plain": [
              "766892"
            ]
          },
          "metadata": {
            "tags": []
          },
          "execution_count": 158
        }
      ]
    },
    {
      "cell_type": "code",
      "metadata": {
        "id": "Xoeq525ODkYw",
        "colab_type": "code",
        "colab": {
          "base_uri": "https://localhost:8080/",
          "height": 34
        },
        "outputId": "5e70b5d0-5ff2-4851-93a4-9cdd652f6814"
      },
      "source": [
        "train[train['C1'] == 421256035 ]['click'].sum() / train[train['C1'] == 421256035 ]['id'].count()"
      ],
      "execution_count": 159,
      "outputs": [
        {
          "output_type": "execute_result",
          "data": {
            "text/plain": [
              "0.0968467528674181"
            ]
          },
          "metadata": {
            "tags": []
          },
          "execution_count": 159
        }
      ]
    },
    {
      "cell_type": "code",
      "metadata": {
        "id": "Z0J5lIY-D2cq",
        "colab_type": "code",
        "colab": {
          "base_uri": "https://localhost:8080/",
          "height": 669
        },
        "outputId": "995a08fa-320d-4dc1-8660-03992a9f08f0"
      },
      "source": [
        "submit.head(20)"
      ],
      "execution_count": 160,
      "outputs": [
        {
          "output_type": "execute_result",
          "data": {
            "text/html": [
              "<div>\n",
              "<style scoped>\n",
              "    .dataframe tbody tr th:only-of-type {\n",
              "        vertical-align: middle;\n",
              "    }\n",
              "\n",
              "    .dataframe tbody tr th {\n",
              "        vertical-align: top;\n",
              "    }\n",
              "\n",
              "    .dataframe thead th {\n",
              "        text-align: right;\n",
              "    }\n",
              "</style>\n",
              "<table border=\"1\" class=\"dataframe\">\n",
              "  <thead>\n",
              "    <tr style=\"text-align: right;\">\n",
              "      <th></th>\n",
              "      <th>0</th>\n",
              "      <th>1</th>\n",
              "    </tr>\n",
              "  </thead>\n",
              "  <tbody>\n",
              "    <tr>\n",
              "      <th>0</th>\n",
              "      <td>1169042</td>\n",
              "      <td>0.335178</td>\n",
              "    </tr>\n",
              "    <tr>\n",
              "      <th>1</th>\n",
              "      <td>1169043</td>\n",
              "      <td>0.688459</td>\n",
              "    </tr>\n",
              "    <tr>\n",
              "      <th>2</th>\n",
              "      <td>1169044</td>\n",
              "      <td>0.768471</td>\n",
              "    </tr>\n",
              "    <tr>\n",
              "      <th>3</th>\n",
              "      <td>1169045</td>\n",
              "      <td>0.251175</td>\n",
              "    </tr>\n",
              "    <tr>\n",
              "      <th>4</th>\n",
              "      <td>1169046</td>\n",
              "      <td>0.464559</td>\n",
              "    </tr>\n",
              "    <tr>\n",
              "      <th>5</th>\n",
              "      <td>1169047</td>\n",
              "      <td>0.674710</td>\n",
              "    </tr>\n",
              "    <tr>\n",
              "      <th>6</th>\n",
              "      <td>1169048</td>\n",
              "      <td>0.147119</td>\n",
              "    </tr>\n",
              "    <tr>\n",
              "      <th>7</th>\n",
              "      <td>1169049</td>\n",
              "      <td>0.064898</td>\n",
              "    </tr>\n",
              "    <tr>\n",
              "      <th>8</th>\n",
              "      <td>1169050</td>\n",
              "      <td>0.949201</td>\n",
              "    </tr>\n",
              "    <tr>\n",
              "      <th>9</th>\n",
              "      <td>1169051</td>\n",
              "      <td>0.972706</td>\n",
              "    </tr>\n",
              "    <tr>\n",
              "      <th>10</th>\n",
              "      <td>1169052</td>\n",
              "      <td>0.626412</td>\n",
              "    </tr>\n",
              "    <tr>\n",
              "      <th>11</th>\n",
              "      <td>1169053</td>\n",
              "      <td>0.437827</td>\n",
              "    </tr>\n",
              "    <tr>\n",
              "      <th>12</th>\n",
              "      <td>1169054</td>\n",
              "      <td>0.381380</td>\n",
              "    </tr>\n",
              "    <tr>\n",
              "      <th>13</th>\n",
              "      <td>1169055</td>\n",
              "      <td>0.648895</td>\n",
              "    </tr>\n",
              "    <tr>\n",
              "      <th>14</th>\n",
              "      <td>1169056</td>\n",
              "      <td>0.920526</td>\n",
              "    </tr>\n",
              "    <tr>\n",
              "      <th>15</th>\n",
              "      <td>1169057</td>\n",
              "      <td>0.867465</td>\n",
              "    </tr>\n",
              "    <tr>\n",
              "      <th>16</th>\n",
              "      <td>1169058</td>\n",
              "      <td>0.781426</td>\n",
              "    </tr>\n",
              "    <tr>\n",
              "      <th>17</th>\n",
              "      <td>1169059</td>\n",
              "      <td>0.747450</td>\n",
              "    </tr>\n",
              "    <tr>\n",
              "      <th>18</th>\n",
              "      <td>1169060</td>\n",
              "      <td>0.042889</td>\n",
              "    </tr>\n",
              "    <tr>\n",
              "      <th>19</th>\n",
              "      <td>1169061</td>\n",
              "      <td>0.703516</td>\n",
              "    </tr>\n",
              "  </tbody>\n",
              "</table>\n",
              "</div>"
            ],
            "text/plain": [
              "          0         1\n",
              "0   1169042  0.335178\n",
              "1   1169043  0.688459\n",
              "2   1169044  0.768471\n",
              "3   1169045  0.251175\n",
              "4   1169046  0.464559\n",
              "5   1169047  0.674710\n",
              "6   1169048  0.147119\n",
              "7   1169049  0.064898\n",
              "8   1169050  0.949201\n",
              "9   1169051  0.972706\n",
              "10  1169052  0.626412\n",
              "11  1169053  0.437827\n",
              "12  1169054  0.381380\n",
              "13  1169055  0.648895\n",
              "14  1169056  0.920526\n",
              "15  1169057  0.867465\n",
              "16  1169058  0.781426\n",
              "17  1169059  0.747450\n",
              "18  1169060  0.042889\n",
              "19  1169061  0.703516"
            ]
          },
          "metadata": {
            "tags": []
          },
          "execution_count": 160
        }
      ]
    },
    {
      "cell_type": "code",
      "metadata": {
        "id": "2rvZN6JfEADJ",
        "colab_type": "code",
        "colab": {}
      },
      "source": [
        "submit[1] = 0"
      ],
      "execution_count": 0,
      "outputs": []
    },
    {
      "cell_type": "code",
      "metadata": {
        "id": "7vw0J73JEb7t",
        "colab_type": "code",
        "colab": {
          "base_uri": "https://localhost:8080/",
          "height": 204
        },
        "outputId": "faf4040b-2e7f-48df-ad7c-ff8b8c484188"
      },
      "source": [
        "submit.head()"
      ],
      "execution_count": 162,
      "outputs": [
        {
          "output_type": "execute_result",
          "data": {
            "text/html": [
              "<div>\n",
              "<style scoped>\n",
              "    .dataframe tbody tr th:only-of-type {\n",
              "        vertical-align: middle;\n",
              "    }\n",
              "\n",
              "    .dataframe tbody tr th {\n",
              "        vertical-align: top;\n",
              "    }\n",
              "\n",
              "    .dataframe thead th {\n",
              "        text-align: right;\n",
              "    }\n",
              "</style>\n",
              "<table border=\"1\" class=\"dataframe\">\n",
              "  <thead>\n",
              "    <tr style=\"text-align: right;\">\n",
              "      <th></th>\n",
              "      <th>0</th>\n",
              "      <th>1</th>\n",
              "    </tr>\n",
              "  </thead>\n",
              "  <tbody>\n",
              "    <tr>\n",
              "      <th>0</th>\n",
              "      <td>1169042</td>\n",
              "      <td>0</td>\n",
              "    </tr>\n",
              "    <tr>\n",
              "      <th>1</th>\n",
              "      <td>1169043</td>\n",
              "      <td>0</td>\n",
              "    </tr>\n",
              "    <tr>\n",
              "      <th>2</th>\n",
              "      <td>1169044</td>\n",
              "      <td>0</td>\n",
              "    </tr>\n",
              "    <tr>\n",
              "      <th>3</th>\n",
              "      <td>1169045</td>\n",
              "      <td>0</td>\n",
              "    </tr>\n",
              "    <tr>\n",
              "      <th>4</th>\n",
              "      <td>1169046</td>\n",
              "      <td>0</td>\n",
              "    </tr>\n",
              "  </tbody>\n",
              "</table>\n",
              "</div>"
            ],
            "text/plain": [
              "         0  1\n",
              "0  1169042  0\n",
              "1  1169043  0\n",
              "2  1169044  0\n",
              "3  1169045  0\n",
              "4  1169046  0"
            ]
          },
          "metadata": {
            "tags": []
          },
          "execution_count": 162
        }
      ]
    },
    {
      "cell_type": "code",
      "metadata": {
        "id": "jgL4TTcAEd75",
        "colab_type": "code",
        "colab": {}
      },
      "source": [
        "submit.to_csv('submit.csv', index = None, header = None)"
      ],
      "execution_count": 0,
      "outputs": []
    },
    {
      "cell_type": "code",
      "metadata": {
        "id": "39DbP3erEo8Z",
        "colab_type": "code",
        "colab": {}
      },
      "source": [
        "!mv submit.csv 'drive/My Drive/Private/workspace/python/case3'"
      ],
      "execution_count": 0,
      "outputs": []
    },
    {
      "cell_type": "code",
      "metadata": {
        "id": "KfRP4hfaExoh",
        "colab_type": "code",
        "colab": {
          "base_uri": "https://localhost:8080/",
          "height": 187
        },
        "outputId": "4564f52f-f62a-4722-aa83-e726949679e5"
      },
      "source": [
        "train['C1'].value_counts()"
      ],
      "execution_count": 165,
      "outputs": [
        {
          "output_type": "execute_result",
          "data": {
            "text/plain": [
              "421256035     766892\n",
              "2581703001    227591\n",
              "3651044092     53902\n",
              "2686811630     33122\n",
              "2387281372     30345\n",
              "2541535031     21625\n",
              "1111213504     15559\n",
              "1045405899     14878\n",
              "2068315619      5128\n",
              "Name: C1, dtype: int64"
            ]
          },
          "metadata": {
            "tags": []
          },
          "execution_count": 165
        }
      ]
    },
    {
      "cell_type": "code",
      "metadata": {
        "id": "aclD_E5mW7mR",
        "colab_type": "code",
        "colab": {
          "base_uri": "https://localhost:8080/",
          "height": 187
        },
        "outputId": "46208a92-2850-43e7-879e-8eaf031718f4"
      },
      "source": [
        "train[train['click'] == 1]['C1'].value_counts()"
      ],
      "execution_count": 166,
      "outputs": [
        {
          "output_type": "execute_result",
          "data": {
            "text/plain": [
              "421256035     74271\n",
              "2581703001     7389\n",
              "3651044092     1710\n",
              "2541535031     1007\n",
              "2387281372      995\n",
              "2686811630      730\n",
              "2068315619      612\n",
              "1111213504      608\n",
              "1045405899      425\n",
              "Name: C1, dtype: int64"
            ]
          },
          "metadata": {
            "tags": []
          },
          "execution_count": 166
        }
      ]
    },
    {
      "cell_type": "code",
      "metadata": {
        "id": "UsdZCoKmXqeF",
        "colab_type": "code",
        "colab": {}
      },
      "source": [
        "from sklearn.tree import DecisionTreeClassifier as DT\n",
        "from sklearn.tree import export_graphviz\n",
        "import pydotplus\n",
        "from IPython.display import Image"
      ],
      "execution_count": 0,
      "outputs": []
    },
    {
      "cell_type": "code",
      "metadata": {
        "id": "kO22x0huYJ3t",
        "colab_type": "code",
        "colab": {}
      },
      "source": [
        "train = train.fillna(0)\n",
        "trainX = train.iloc[:, 2:22]\n",
        "y = train['click']"
      ],
      "execution_count": 0,
      "outputs": []
    },
    {
      "cell_type": "code",
      "metadata": {
        "id": "W75oz49LYyrV",
        "colab_type": "code",
        "colab": {
          "base_uri": "https://localhost:8080/",
          "height": 204
        },
        "outputId": "bbb07ab4-906b-4537-8e39-15ff6e3715b5"
      },
      "source": [
        "trainX.head()"
      ],
      "execution_count": 169,
      "outputs": [
        {
          "output_type": "execute_result",
          "data": {
            "text/html": [
              "<div>\n",
              "<style scoped>\n",
              "    .dataframe tbody tr th:only-of-type {\n",
              "        vertical-align: middle;\n",
              "    }\n",
              "\n",
              "    .dataframe tbody tr th {\n",
              "        vertical-align: top;\n",
              "    }\n",
              "\n",
              "    .dataframe thead th {\n",
              "        text-align: right;\n",
              "    }\n",
              "</style>\n",
              "<table border=\"1\" class=\"dataframe\">\n",
              "  <thead>\n",
              "    <tr style=\"text-align: right;\">\n",
              "      <th></th>\n",
              "      <th>I1</th>\n",
              "      <th>I2</th>\n",
              "      <th>C1</th>\n",
              "      <th>C2</th>\n",
              "      <th>C3</th>\n",
              "      <th>C4</th>\n",
              "      <th>C5</th>\n",
              "      <th>C6</th>\n",
              "      <th>I3</th>\n",
              "      <th>I4</th>\n",
              "      <th>I5</th>\n",
              "      <th>I6</th>\n",
              "      <th>I7</th>\n",
              "      <th>I8</th>\n",
              "      <th>I9</th>\n",
              "      <th>I10</th>\n",
              "      <th>I11</th>\n",
              "      <th>I12</th>\n",
              "      <th>I13</th>\n",
              "      <th>I14</th>\n",
              "    </tr>\n",
              "  </thead>\n",
              "  <tbody>\n",
              "    <tr>\n",
              "      <th>0</th>\n",
              "      <td>5</td>\n",
              "      <td>20</td>\n",
              "      <td>421256035</td>\n",
              "      <td>2377199148</td>\n",
              "      <td>2696211399</td>\n",
              "      <td>2298910535</td>\n",
              "      <td>3133252034</td>\n",
              "      <td>1509930964</td>\n",
              "      <td>1</td>\n",
              "      <td>0</td>\n",
              "      <td>0</td>\n",
              "      <td>0</td>\n",
              "      <td>0</td>\n",
              "      <td>0</td>\n",
              "      <td>0</td>\n",
              "      <td>0</td>\n",
              "      <td>0.0</td>\n",
              "      <td>0.0</td>\n",
              "      <td>0.0</td>\n",
              "      <td>780.0</td>\n",
              "    </tr>\n",
              "    <tr>\n",
              "      <th>1</th>\n",
              "      <td>5</td>\n",
              "      <td>20</td>\n",
              "      <td>2581703001</td>\n",
              "      <td>2589684548</td>\n",
              "      <td>1998340283</td>\n",
              "      <td>2411205997</td>\n",
              "      <td>3202148071</td>\n",
              "      <td>1238839469</td>\n",
              "      <td>0</td>\n",
              "      <td>2</td>\n",
              "      <td>1</td>\n",
              "      <td>1</td>\n",
              "      <td>0</td>\n",
              "      <td>0</td>\n",
              "      <td>0</td>\n",
              "      <td>0</td>\n",
              "      <td>0.0</td>\n",
              "      <td>0.0</td>\n",
              "      <td>0.0</td>\n",
              "      <td>0.0</td>\n",
              "    </tr>\n",
              "    <tr>\n",
              "      <th>2</th>\n",
              "      <td>5</td>\n",
              "      <td>20</td>\n",
              "      <td>2581703001</td>\n",
              "      <td>1862037199</td>\n",
              "      <td>2448089184</td>\n",
              "      <td>2411205997</td>\n",
              "      <td>1107442947</td>\n",
              "      <td>3668889797</td>\n",
              "      <td>2</td>\n",
              "      <td>1</td>\n",
              "      <td>0</td>\n",
              "      <td>0</td>\n",
              "      <td>0</td>\n",
              "      <td>0</td>\n",
              "      <td>1</td>\n",
              "      <td>0</td>\n",
              "      <td>0.0</td>\n",
              "      <td>0.0</td>\n",
              "      <td>0.0</td>\n",
              "      <td>117.0</td>\n",
              "    </tr>\n",
              "    <tr>\n",
              "      <th>3</th>\n",
              "      <td>5</td>\n",
              "      <td>20</td>\n",
              "      <td>421256035</td>\n",
              "      <td>3874378935</td>\n",
              "      <td>1658216424</td>\n",
              "      <td>2298910535</td>\n",
              "      <td>2321672976</td>\n",
              "      <td>1509930964</td>\n",
              "      <td>1</td>\n",
              "      <td>0</td>\n",
              "      <td>0</td>\n",
              "      <td>0</td>\n",
              "      <td>0</td>\n",
              "      <td>0</td>\n",
              "      <td>0</td>\n",
              "      <td>0</td>\n",
              "      <td>6.0</td>\n",
              "      <td>6.0</td>\n",
              "      <td>34501.0</td>\n",
              "      <td>390.0</td>\n",
              "    </tr>\n",
              "    <tr>\n",
              "      <th>4</th>\n",
              "      <td>5</td>\n",
              "      <td>20</td>\n",
              "      <td>421256035</td>\n",
              "      <td>3874378935</td>\n",
              "      <td>1892769125</td>\n",
              "      <td>2411205997</td>\n",
              "      <td>2321672976</td>\n",
              "      <td>1509930964</td>\n",
              "      <td>1</td>\n",
              "      <td>0</td>\n",
              "      <td>0</td>\n",
              "      <td>0</td>\n",
              "      <td>0</td>\n",
              "      <td>0</td>\n",
              "      <td>0</td>\n",
              "      <td>0</td>\n",
              "      <td>1.0</td>\n",
              "      <td>31.0</td>\n",
              "      <td>12557.0</td>\n",
              "      <td>390.0</td>\n",
              "    </tr>\n",
              "  </tbody>\n",
              "</table>\n",
              "</div>"
            ],
            "text/plain": [
              "   I1  I2          C1          C2          C3  ...  I10  I11   I12      I13    I14\n",
              "0   5  20   421256035  2377199148  2696211399  ...    0  0.0   0.0      0.0  780.0\n",
              "1   5  20  2581703001  2589684548  1998340283  ...    0  0.0   0.0      0.0    0.0\n",
              "2   5  20  2581703001  1862037199  2448089184  ...    0  0.0   0.0      0.0  117.0\n",
              "3   5  20   421256035  3874378935  1658216424  ...    0  6.0   6.0  34501.0  390.0\n",
              "4   5  20   421256035  3874378935  1892769125  ...    0  1.0  31.0  12557.0  390.0\n",
              "\n",
              "[5 rows x 20 columns]"
            ]
          },
          "metadata": {
            "tags": []
          },
          "execution_count": 169
        }
      ]
    },
    {
      "cell_type": "code",
      "metadata": {
        "id": "-gg9s0-OY0j9",
        "colab_type": "code",
        "colab": {
          "base_uri": "https://localhost:8080/",
          "height": 119
        },
        "outputId": "3d28f03c-087c-46b7-a9c3-0f51bb651fdd"
      },
      "source": [
        "y.head()"
      ],
      "execution_count": 170,
      "outputs": [
        {
          "output_type": "execute_result",
          "data": {
            "text/plain": [
              "0    0\n",
              "1    0\n",
              "2    0\n",
              "3    0\n",
              "4    1\n",
              "Name: click, dtype: int64"
            ]
          },
          "metadata": {
            "tags": []
          },
          "execution_count": 170
        }
      ]
    },
    {
      "cell_type": "code",
      "metadata": {
        "id": "suLWNg8Dc5Ig",
        "colab_type": "code",
        "colab": {
          "base_uri": "https://localhost:8080/",
          "height": 204
        },
        "outputId": "e1d030a0-945d-4431-9b16-895c4b8112dc"
      },
      "source": [
        "test.head()"
      ],
      "execution_count": 171,
      "outputs": [
        {
          "output_type": "execute_result",
          "data": {
            "text/html": [
              "<div>\n",
              "<style scoped>\n",
              "    .dataframe tbody tr th:only-of-type {\n",
              "        vertical-align: middle;\n",
              "    }\n",
              "\n",
              "    .dataframe tbody tr th {\n",
              "        vertical-align: top;\n",
              "    }\n",
              "\n",
              "    .dataframe thead th {\n",
              "        text-align: right;\n",
              "    }\n",
              "</style>\n",
              "<table border=\"1\" class=\"dataframe\">\n",
              "  <thead>\n",
              "    <tr style=\"text-align: right;\">\n",
              "      <th></th>\n",
              "      <th>id</th>\n",
              "      <th>I1</th>\n",
              "      <th>I2</th>\n",
              "      <th>C1</th>\n",
              "      <th>C2</th>\n",
              "      <th>C3</th>\n",
              "      <th>C4</th>\n",
              "      <th>C5</th>\n",
              "      <th>C6</th>\n",
              "      <th>I3</th>\n",
              "      <th>I4</th>\n",
              "      <th>I5</th>\n",
              "      <th>I6</th>\n",
              "      <th>I7</th>\n",
              "      <th>I8</th>\n",
              "      <th>I9</th>\n",
              "      <th>I10</th>\n",
              "      <th>I11</th>\n",
              "      <th>I12</th>\n",
              "      <th>I13</th>\n",
              "      <th>I14</th>\n",
              "    </tr>\n",
              "  </thead>\n",
              "  <tbody>\n",
              "    <tr>\n",
              "      <th>0</th>\n",
              "      <td>1169042</td>\n",
              "      <td>5</td>\n",
              "      <td>20</td>\n",
              "      <td>421256035</td>\n",
              "      <td>3874378935</td>\n",
              "      <td>1892769125</td>\n",
              "      <td>2411205997</td>\n",
              "      <td>2321672976</td>\n",
              "      <td>1509930964</td>\n",
              "      <td>1</td>\n",
              "      <td>0</td>\n",
              "      <td>0</td>\n",
              "      <td>0</td>\n",
              "      <td>0</td>\n",
              "      <td>0</td>\n",
              "      <td>0</td>\n",
              "      <td>0</td>\n",
              "      <td>1.0</td>\n",
              "      <td>35.0</td>\n",
              "      <td>76335.0</td>\n",
              "      <td>390.0</td>\n",
              "    </tr>\n",
              "    <tr>\n",
              "      <th>1</th>\n",
              "      <td>1169043</td>\n",
              "      <td>5</td>\n",
              "      <td>20</td>\n",
              "      <td>421256035</td>\n",
              "      <td>1537671376</td>\n",
              "      <td>575044823</td>\n",
              "      <td>2298910535</td>\n",
              "      <td>1301721902</td>\n",
              "      <td>3111151614</td>\n",
              "      <td>2</td>\n",
              "      <td>0</td>\n",
              "      <td>0</td>\n",
              "      <td>1</td>\n",
              "      <td>0</td>\n",
              "      <td>0</td>\n",
              "      <td>0</td>\n",
              "      <td>0</td>\n",
              "      <td>69.0</td>\n",
              "      <td>1.0</td>\n",
              "      <td>5634916.0</td>\n",
              "      <td>91.0</td>\n",
              "    </tr>\n",
              "    <tr>\n",
              "      <th>2</th>\n",
              "      <td>1169044</td>\n",
              "      <td>5</td>\n",
              "      <td>20</td>\n",
              "      <td>421256035</td>\n",
              "      <td>1392597759</td>\n",
              "      <td>2522517098</td>\n",
              "      <td>2298910535</td>\n",
              "      <td>2321672976</td>\n",
              "      <td>1509930964</td>\n",
              "      <td>2</td>\n",
              "      <td>0</td>\n",
              "      <td>0</td>\n",
              "      <td>0</td>\n",
              "      <td>0</td>\n",
              "      <td>0</td>\n",
              "      <td>0</td>\n",
              "      <td>0</td>\n",
              "      <td>NaN</td>\n",
              "      <td>NaN</td>\n",
              "      <td>NaN</td>\n",
              "      <td>1300.0</td>\n",
              "    </tr>\n",
              "    <tr>\n",
              "      <th>3</th>\n",
              "      <td>1169045</td>\n",
              "      <td>5</td>\n",
              "      <td>20</td>\n",
              "      <td>2581703001</td>\n",
              "      <td>1862037199</td>\n",
              "      <td>2448089184</td>\n",
              "      <td>2411205997</td>\n",
              "      <td>476085660</td>\n",
              "      <td>2068230268</td>\n",
              "      <td>1</td>\n",
              "      <td>1</td>\n",
              "      <td>0</td>\n",
              "      <td>0</td>\n",
              "      <td>0</td>\n",
              "      <td>0</td>\n",
              "      <td>0</td>\n",
              "      <td>1</td>\n",
              "      <td>NaN</td>\n",
              "      <td>NaN</td>\n",
              "      <td>NaN</td>\n",
              "      <td>52.0</td>\n",
              "    </tr>\n",
              "    <tr>\n",
              "      <th>4</th>\n",
              "      <td>1169046</td>\n",
              "      <td>5</td>\n",
              "      <td>20</td>\n",
              "      <td>421256035</td>\n",
              "      <td>3874378935</td>\n",
              "      <td>1892769125</td>\n",
              "      <td>2411205997</td>\n",
              "      <td>2321672976</td>\n",
              "      <td>1509930964</td>\n",
              "      <td>1</td>\n",
              "      <td>0</td>\n",
              "      <td>0</td>\n",
              "      <td>0</td>\n",
              "      <td>0</td>\n",
              "      <td>0</td>\n",
              "      <td>0</td>\n",
              "      <td>0</td>\n",
              "      <td>6.0</td>\n",
              "      <td>1.0</td>\n",
              "      <td>3921.0</td>\n",
              "      <td>390.0</td>\n",
              "    </tr>\n",
              "  </tbody>\n",
              "</table>\n",
              "</div>"
            ],
            "text/plain": [
              "        id  I1  I2          C1          C2  ...  I10   I11   I12        I13     I14\n",
              "0  1169042   5  20   421256035  3874378935  ...    0   1.0  35.0    76335.0   390.0\n",
              "1  1169043   5  20   421256035  1537671376  ...    0  69.0   1.0  5634916.0    91.0\n",
              "2  1169044   5  20   421256035  1392597759  ...    0   NaN   NaN        NaN  1300.0\n",
              "3  1169045   5  20  2581703001  1862037199  ...    1   NaN   NaN        NaN    52.0\n",
              "4  1169046   5  20   421256035  3874378935  ...    0   6.0   1.0     3921.0   390.0\n",
              "\n",
              "[5 rows x 21 columns]"
            ]
          },
          "metadata": {
            "tags": []
          },
          "execution_count": 171
        }
      ]
    },
    {
      "cell_type": "code",
      "metadata": {
        "id": "n7MGTgR2Y2Gl",
        "colab_type": "code",
        "colab": {
          "base_uri": "https://localhost:8080/",
          "height": 374
        },
        "outputId": "e93078f5-ffce-4138-b509-eb33f7202259"
      },
      "source": [
        "test = test.fillna(0)\n",
        "testX = test.iloc[:, 1:22]\n",
        "testX.isnull().sum()"
      ],
      "execution_count": 172,
      "outputs": [
        {
          "output_type": "execute_result",
          "data": {
            "text/plain": [
              "I1     0\n",
              "I2     0\n",
              "C1     0\n",
              "C2     0\n",
              "C3     0\n",
              "C4     0\n",
              "C5     0\n",
              "C6     0\n",
              "I3     0\n",
              "I4     0\n",
              "I5     0\n",
              "I6     0\n",
              "I7     0\n",
              "I8     0\n",
              "I9     0\n",
              "I10    0\n",
              "I11    0\n",
              "I12    0\n",
              "I13    0\n",
              "I14    0\n",
              "dtype: int64"
            ]
          },
          "metadata": {
            "tags": []
          },
          "execution_count": 172
        }
      ]
    },
    {
      "cell_type": "code",
      "metadata": {
        "id": "XZ8kL-UQY-Md",
        "colab_type": "code",
        "colab": {}
      },
      "source": [
        "trainX = pd.get_dummies(trainX)\n",
        "testX = pd.get_dummies(testX)"
      ],
      "execution_count": 0,
      "outputs": []
    },
    {
      "cell_type": "code",
      "metadata": {
        "id": "G8DXfM2mZPn1",
        "colab_type": "code",
        "colab": {
          "base_uri": "https://localhost:8080/",
          "height": 119
        },
        "outputId": "3926f6e2-a6d5-4969-f667-2edb5e0aff31"
      },
      "source": [
        "clf = DT(max_depth = 4, min_samples_leaf = 500)\n",
        "clf.fit(trainX, y)"
      ],
      "execution_count": 182,
      "outputs": [
        {
          "output_type": "execute_result",
          "data": {
            "text/plain": [
              "DecisionTreeClassifier(class_weight=None, criterion='gini', max_depth=4,\n",
              "            max_features=None, max_leaf_nodes=None,\n",
              "            min_impurity_decrease=0.0, min_impurity_split=None,\n",
              "            min_samples_leaf=500, min_samples_split=2,\n",
              "            min_weight_fraction_leaf=0.0, presort=False, random_state=None,\n",
              "            splitter='best')"
            ]
          },
          "metadata": {
            "tags": []
          },
          "execution_count": 182
        }
      ]
    },
    {
      "cell_type": "code",
      "metadata": {
        "id": "iQ97FwhkZdFU",
        "colab_type": "code",
        "colab": {}
      },
      "source": [
        "pred = clf.predict_proba(testX)"
      ],
      "execution_count": 0,
      "outputs": []
    },
    {
      "cell_type": "code",
      "metadata": {
        "id": "rjeKY9iobZJU",
        "colab_type": "code",
        "colab": {}
      },
      "source": [
        "pred = pred[:, 1]"
      ],
      "execution_count": 0,
      "outputs": []
    },
    {
      "cell_type": "code",
      "metadata": {
        "id": "HgkM_mPEdNvU",
        "colab_type": "code",
        "colab": {
          "base_uri": "https://localhost:8080/",
          "height": 34
        },
        "outputId": "d9ea8b68-8367-4eb0-ff85-8794f78b2ed8"
      },
      "source": [
        "submit[1].count()"
      ],
      "execution_count": 185,
      "outputs": [
        {
          "output_type": "execute_result",
          "data": {
            "text/plain": [
              "1295086"
            ]
          },
          "metadata": {
            "tags": []
          },
          "execution_count": 185
        }
      ]
    },
    {
      "cell_type": "code",
      "metadata": {
        "id": "_v_461c6dhvM",
        "colab_type": "code",
        "colab": {
          "base_uri": "https://localhost:8080/",
          "height": 34
        },
        "outputId": "fdf0d887-c2f1-47e5-fb4e-a80fa3cc7fa0"
      },
      "source": [
        "pred.shape"
      ],
      "execution_count": 186,
      "outputs": [
        {
          "output_type": "execute_result",
          "data": {
            "text/plain": [
              "(1295086,)"
            ]
          },
          "metadata": {
            "tags": []
          },
          "execution_count": 186
        }
      ]
    },
    {
      "cell_type": "code",
      "metadata": {
        "id": "jNF-1alCd3Cs",
        "colab_type": "code",
        "colab": {}
      },
      "source": [
        "submit[1] = pred"
      ],
      "execution_count": 0,
      "outputs": []
    },
    {
      "cell_type": "code",
      "metadata": {
        "id": "S_n_zPZHeqoo",
        "colab_type": "code",
        "colab": {}
      },
      "source": [
        "submit.to_csv('submit3.csv', index = None, header = None)\n",
        "!mv submit3.csv 'drive/My Drive/Private/workspace/python/case3'"
      ],
      "execution_count": 0,
      "outputs": []
    },
    {
      "cell_type": "code",
      "metadata": {
        "id": "ZbcGo2ZieyPr",
        "colab_type": "code",
        "colab": {}
      },
      "source": [
        ""
      ],
      "execution_count": 0,
      "outputs": []
    }
  ]
}