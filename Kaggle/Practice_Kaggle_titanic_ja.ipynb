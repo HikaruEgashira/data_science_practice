{
  "nbformat": 4,
  "nbformat_minor": 0,
  "metadata": {
    "colab": {
      "name": "Practice-Kaggle-titanic-ja.ipynb",
      "version": "0.3.2",
      "provenance": [],
      "collapsed_sections": [],
      "include_colab_link": true
    },
    "kernelspec": {
      "name": "python3",
      "display_name": "Python 3"
    }
  },
  "cells": [
    {
      "cell_type": "markdown",
      "metadata": {
        "id": "view-in-github",
        "colab_type": "text"
      },
      "source": [
        "<a href=\"https://colab.research.google.com/github/HikaruEgashira/data_science_practice/blob/master/Kaggle/Practice_Kaggle_titanic_ja.ipynb\" target=\"_parent\"><img src=\"https://colab.research.google.com/assets/colab-badge.svg\" alt=\"Open In Colab\"/></a>"
      ]
    },
    {
      "cell_type": "markdown",
      "metadata": {
        "id": "a5hJFf9NNdb5",
        "colab_type": "text"
      },
      "source": [
        "# Introduction to Kaggle\n",
        "\n",
        "★Kaggle入門★\n",
        "\n",
        "This time, we will learn about the flow of competition like Kaggle and how to handle data using Python.\n",
        "\n",
        "The original Japanese text is placed after the English sentences so that Japanese people can easily understand.\n",
        "\n",
        "As we use Google Colaboratory, environment is not necessary.\n",
        "\n",
        "今回はKaggleのようなコンペティションの流れと、Pythonを用いたデータの扱い方について学びます。\n",
        "日本人がわかりやすいように英語の文章の後に日本語原文を載せています。\n",
        "Google Colaboratoryを利用するので、環境構築は必要ありません。\n",
        "\n",
        "=======================================================\n",
        "\n",
        "1. First, create Kaggle account and go to the Titanic page of Kaggle. => https://www.kaggle.com/c/titanic\n",
        "\n",
        "2. Download the data to Google colab.\n",
        "\n",
        "In google colab, you can use UNIX commands by putting \"!\" at the beginning.\n",
        "\n",
        "=======================================================\n",
        "\n",
        "1. まずはじめにKaggleのアカウントを作成し、[タイタニックのページ](https://www.kaggle.com/c/titanic)に行きます。\n",
        "\n",
        "2. データをGooglecolabへダウンロードします。\n",
        "\n",
        "google colabでは\"!\"を先頭に書くと、UNIXコマンドが利用できます。\n",
        "\n",
        "======================================================="
      ]
    },
    {
      "cell_type": "code",
      "metadata": {
        "id": "yE6GJw-CNTMn",
        "colab_type": "code",
        "colab": {}
      },
      "source": [
        "!wget https://raw.githubusercontent.com/HikaruEgashira/api-with-gh/Dataset/train.csv\n",
        "!wget https://raw.githubusercontent.com/HikaruEgashira/api-with-gh/Dataset/test.csv\n",
        "!wget https://raw.githubusercontent.com/HikaruEgashira/api-with-gh/Dataset/gender_submission.csv\n",
        "!ls"
      ],
      "execution_count": 0,
      "outputs": []
    },
    {
      "cell_type": "markdown",
      "metadata": {
        "id": "3hNcxHa7QXQZ",
        "colab_type": "text"
      },
      "source": [
        "## Import Python package\n",
        "\n",
        "Pythonのパッケージをインポートしましょう。\n",
        "\n",
        "- pandas: data structures and data analysis tools データ分析ツール\n",
        "- matplotlib: Python 2D plotting library 表、グラフ作成\n",
        "- nump: Matrix operations 行列の操作"
      ]
    },
    {
      "cell_type": "code",
      "metadata": {
        "id": "78DSFd-DQAZQ",
        "colab_type": "code",
        "colab": {}
      },
      "source": [
        "import pandas as pd\n",
        "from matplotlib import pyplot as plt\n",
        "import numpy as np\n",
        "\n",
        "# Display the figure on this notebook 表をGoogleColab上に表示\n",
        "%matplotlib inline"
      ],
      "execution_count": 0,
      "outputs": []
    },
    {
      "cell_type": "markdown",
      "metadata": {
        "id": "Ar2X4jZDSQXn",
        "colab_type": "text"
      },
      "source": [
        "## Read data from csv file\n",
        "\n",
        "csvデータの読み込み"
      ]
    },
    {
      "cell_type": "code",
      "metadata": {
        "id": "dOpaT56qSONu",
        "colab_type": "code",
        "colab": {}
      },
      "source": [
        "train = pd.read_csv('train.csv')\n",
        "test = pd.read_csv('test.csv')\n",
        "submit = pd.read_csv('gender_submission.csv')"
      ],
      "execution_count": 0,
      "outputs": []
    },
    {
      "cell_type": "markdown",
      "metadata": {
        "id": "_zTzy9CPU_it",
        "colab_type": "text"
      },
      "source": [
        "# Data visualization\n",
        "\n",
        "データの可視化"
      ]
    },
    {
      "cell_type": "code",
      "metadata": {
        "id": "uRC-sxlgUcA0",
        "colab_type": "code",
        "colab": {}
      },
      "source": [
        "train.head() # head: Display the first five data はじめの5つのデータを表示"
      ],
      "execution_count": 0,
      "outputs": []
    },
    {
      "cell_type": "code",
      "metadata": {
        "id": "pJUfZpypVcAP",
        "colab_type": "code",
        "colab": {}
      },
      "source": [
        "test.head()"
      ],
      "execution_count": 0,
      "outputs": []
    },
    {
      "cell_type": "code",
      "metadata": {
        "id": "aUq-128UVdxD",
        "colab_type": "code",
        "colab": {}
      },
      "source": [
        "submit.head(4) # Display 4 row 引数を指定可能。4行のみ表示"
      ],
      "execution_count": 0,
      "outputs": []
    },
    {
      "cell_type": "code",
      "metadata": {
        "id": "ADFkK7MHViOa",
        "colab_type": "code",
        "colab": {}
      },
      "source": [
        "train['Survived'].head(10) # whether survived or dead 生き残ったかどうか"
      ],
      "execution_count": 0,
      "outputs": []
    },
    {
      "cell_type": "code",
      "metadata": {
        "id": "id7jeJpnXGub",
        "colab_type": "code",
        "colab": {}
      },
      "source": [
        "train['Survived'].count()"
      ],
      "execution_count": 0,
      "outputs": []
    },
    {
      "cell_type": "code",
      "metadata": {
        "id": "f-XE2TU8XaXp",
        "colab_type": "code",
        "colab": {}
      },
      "source": [
        "train['Survived'].sum() # return sum of Survived number 生き残った人数の合計"
      ],
      "execution_count": 0,
      "outputs": []
    },
    {
      "cell_type": "code",
      "metadata": {
        "id": "lgIM58lIXler",
        "colab_type": "code",
        "colab": {}
      },
      "source": [
        "train[ train['Survived'] == 0 ].head() # filter only dead なくなった方のみに絞る"
      ],
      "execution_count": 0,
      "outputs": []
    },
    {
      "cell_type": "code",
      "metadata": {
        "id": "eu6Rrpv_Xt8Q",
        "colab_type": "code",
        "colab": {}
      },
      "source": [
        "train[ train['Survived'] == 1 ].head()"
      ],
      "execution_count": 0,
      "outputs": []
    },
    {
      "cell_type": "markdown",
      "metadata": {
        "id": "4kBFleAvY2dc",
        "colab_type": "text"
      },
      "source": [
        "## I thought...🤔\n",
        "\n",
        "It is thought that women are more likely to survive.\n",
        "So let's predict that women will survive.\n",
        "\n",
        "女性の方が生き残る可能性が高いのではないかと考えられる。\n",
        "なので、女性ならば生き残るという予測を行おう。"
      ]
    },
    {
      "cell_type": "markdown",
      "metadata": {
        "id": "_GHeOabJaDeh",
        "colab_type": "text"
      },
      "source": [
        "## plot differences between gender\n",
        "\n",
        "性別間の生き残りの差をグラフ化する"
      ]
    },
    {
      "cell_type": "code",
      "metadata": {
        "id": "mjThbRBvYs6b",
        "colab_type": "code",
        "colab": {}
      },
      "source": [
        "train[train['Sex'] == 'male']['Survived'].sum() / train[train['Sex'] == 'male']['Survived'].count()"
      ],
      "execution_count": 0,
      "outputs": []
    },
    {
      "cell_type": "code",
      "metadata": {
        "id": "WNYVL6j0arxM",
        "colab_type": "code",
        "colab": {}
      },
      "source": [
        "train[train['Sex'] == 'female']['Survived'].sum() / train[train['Sex'] == 'female']['Survived'].count()"
      ],
      "execution_count": 0,
      "outputs": []
    },
    {
      "cell_type": "code",
      "metadata": {
        "id": "GmzU-HhGdlYf",
        "colab_type": "code",
        "colab": {}
      },
      "source": [
        "survived = train['Survived'] == 1\n",
        "\n",
        "# Variable definition 変数の定義\n",
        "survivors_sex = []\n",
        "survivors_sex.append(len(train[(train['Sex'] == 'male') & (train['Survived'] == 1)]))\n",
        "survivors_sex.append(len(train[(train['Sex'] == 'female') & (train['Survived'] == 1)])) \n",
        "dead_sex = []\n",
        "dead_sex.append(len(train[(train['Sex'] == 'male') & (train['Survived'] == 0)]))\n",
        "dead_sex.append(len(train[(train['Sex'] == 'female') & (train['Survived'] == 0)]))\n",
        " \n",
        "# plot 表の表示\n",
        "plt.subplot(131)\n",
        "xs = np.arange(2)\n",
        "xlabel = ['Male', 'Female']\n",
        "plt.xticks(xs, xlabel, rotation='45')\n",
        "plt.bar(xs, survivors_sex, alpha = 1, color = 'teal', width = 1, label = 'Survived')\n",
        "plt.bar(xs, dead_sex, bottom = survivors_sex, alpha = 1, color = 'gray', width = 1, label = 'Deaded')\n",
        "plt.legend(bbox_to_anchor=(0.7, 1.17))"
      ],
      "execution_count": 0,
      "outputs": []
    },
    {
      "cell_type": "markdown",
      "metadata": {
        "id": "57EvkihGjqYl",
        "colab_type": "text"
      },
      "source": [
        "# Test data prediction\n",
        "\n",
        "テストデータの予測\n",
        "\n",
        "Create a function that returns 0 for male data in `test` and 1 otherwise.\n",
        "\n",
        "`test`において女性のデータならば1を、それ以外は0を返す関数を作成する。"
      ]
    },
    {
      "cell_type": "code",
      "metadata": {
        "id": "CfaOW9lCg6Ry",
        "colab_type": "code",
        "colab": {}
      },
      "source": [
        "def predict(test):\n",
        "  return (test['Sex'] == 'female').astype(int)"
      ],
      "execution_count": 0,
      "outputs": []
    },
    {
      "cell_type": "markdown",
      "metadata": {
        "id": "0VxFqoD-lgfh",
        "colab_type": "text"
      },
      "source": [
        "So we can create prediction function!!\n",
        "Next, we actually make predictions and write them in the submission file.\n",
        "\n",
        "予測を行う関数を書くことができました！\n",
        "次は実際に予測を行い、提出ファイルに記述します。"
      ]
    },
    {
      "cell_type": "code",
      "metadata": {
        "id": "Xu6abMPJldjy",
        "colab_type": "code",
        "colab": {}
      },
      "source": [
        "# predict\n",
        "pred = predict(test)\n",
        "pred.head()"
      ],
      "execution_count": 0,
      "outputs": []
    },
    {
      "cell_type": "code",
      "metadata": {
        "id": "gD3ruh78mMU_",
        "colab_type": "code",
        "colab": {}
      },
      "source": [
        "submit['Survived'] = 0 # init submit data(option) データの初期化（今回はデータの変更がわかるように行うが実際は不要）\n",
        "submit.head()"
      ],
      "execution_count": 0,
      "outputs": []
    },
    {
      "cell_type": "code",
      "metadata": {
        "id": "xsNpCZHemXC8",
        "colab_type": "code",
        "colab": {}
      },
      "source": [
        "submit['Survived'] = pred\n",
        "submit.head()"
      ],
      "execution_count": 0,
      "outputs": []
    },
    {
      "cell_type": "markdown",
      "metadata": {
        "id": "TLmsgwqtnO2P",
        "colab_type": "text"
      },
      "source": [
        "## Create file and submit to Kaggle!\n",
        "\n",
        "csvファイルを生成して、Kaggleに提出します。"
      ]
    },
    {
      "cell_type": "code",
      "metadata": {
        "id": "spJ6j-onoZ-Z",
        "colab_type": "code",
        "colab": {}
      },
      "source": [
        "submit.to_csv('submit.csv')"
      ],
      "execution_count": 0,
      "outputs": []
    },
    {
      "cell_type": "code",
      "metadata": {
        "id": "6BVq_tGFmfY3",
        "colab_type": "code",
        "colab": {}
      },
      "source": [
        "from google.colab import files\n",
        "\n",
        "files.download('submit.csv')"
      ],
      "execution_count": 0,
      "outputs": []
    },
    {
      "cell_type": "markdown",
      "metadata": {
        "id": "8M3Qaek0QNSk",
        "colab_type": "text"
      },
      "source": [
        "## what's next?\n",
        "\n",
        "次に何をすべき？\n",
        "\n",
        "- To create model using various analysis methods.\n",
        "- tool: scikit-learn\n",
        "- model: LinearRegression, multiple regression, classification and regression trees, Decision tree learning\n",
        "\n",
        "- 様々な分析手法を用いたモデルの作成。\n",
        "- ツール: scikit-learn\n",
        "- 手法: 線形回帰, 重回帰, 分類分け, 回帰木, 決定木\n",
        "\n",
        "===================================================\n",
        "\n",
        "## 参考\n",
        "\n",
        "[【ゼロから始めるデータ分析】 ビジネスケースで学ぶPythonデータサイエンス入門\n",
        "](https://www.udemy.com/optworks_1/learn/v4)\n",
        "\n",
        "[Python - tutorial](https://docs.python.jp/3/tutorial/)\n",
        "\n",
        "[machinelearning - coursera](https://www.coursera.org/learn/machine-learning)\n",
        "\n",
        "『ゼロから作るディープラーニング』O'REILLY\n"
      ]
    }
  ]
}